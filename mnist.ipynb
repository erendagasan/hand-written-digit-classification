{
  "nbformat": 4,
  "nbformat_minor": 0,
  "metadata": {
    "colab": {
      "name": "mnist.ipynb",
      "provenance": [],
      "collapsed_sections": [],
      "authorship_tag": "ABX9TyPciZMHrLYxjS4gRTt1MXzL",
      "include_colab_link": true
    },
    "kernelspec": {
      "name": "python3",
      "display_name": "Python 3"
    },
    "language_info": {
      "name": "python"
    },
    "accelerator": "GPU",
    "gpuClass": "standard"
  },
  "cells": [
    {
      "cell_type": "markdown",
      "metadata": {
        "id": "view-in-github",
        "colab_type": "text"
      },
      "source": [
        "<a href=\"https://colab.research.google.com/github/erendagasan/hand-written-digit-classification/blob/main/mnist.ipynb\" target=\"_parent\"><img src=\"https://colab.research.google.com/assets/colab-badge.svg\" alt=\"Open In Colab\"/></a>"
      ]
    },
    {
      "cell_type": "code",
      "execution_count": 11,
      "metadata": {
        "id": "64Uf4g_Jd2KG"
      },
      "outputs": [],
      "source": [
        "import os\n",
        "import cv2\n",
        "import numpy as np\n",
        "from tensorflow import keras\n",
        "import tensorflow as tf\n",
        "import matplotlib.pyplot as plt"
      ]
    },
    {
      "cell_type": "code",
      "source": [
        "mnist = tf.keras.datasets.mnist\n",
        "(X_train, y_train), (X_test, y_test) = mnist.load_data()\n",
        "\n",
        "X_train = tf.keras.utils.normalize(X_train, axis=1)\n",
        "X_test = tf.keras.utils.normalize(X_test, axis=1)"
      ],
      "metadata": {
        "id": "mBR22WqTizk2"
      },
      "execution_count": 10,
      "outputs": []
    },
    {
      "cell_type": "code",
      "source": [
        "model = keras.Sequential(\n",
        "    [\n",
        "  keras.layers.AveragePooling2D(2, 1, input_shape=(28, 28, 1)),\n",
        "  keras.layers.Conv2D(64, (2, 2), activation='relu'),\n",
        "  keras.layers.MaxPool2D(2,2),\n",
        "  keras.layers.Dropout(0.5),\n",
        "  keras.layers.Conv2D(64, (2, 2), activation='relu'),\n",
        "  keras.layers.Flatten(),\n",
        "  keras.layers.Dense(10, activation='softmax')\n",
        "]\n",
        ")\n",
        "\n",
        "model.compile(optimizer='adam',\n",
        "              loss=tf.keras.losses.SparseCategoricalCrossentropy(),\n",
        "              metrics=['accuracy'])\n",
        "\n",
        "model.fit(X_train, y_train, batch_size=16, epochs=5)"
      ],
      "metadata": {
        "colab": {
          "base_uri": "https://localhost:8080/"
        },
        "id": "hnYkqSxOi7BX",
        "outputId": "fe7c3105-7f3e-4805-bc7b-c00ce1927d47"
      },
      "execution_count": 14,
      "outputs": [
        {
          "output_type": "stream",
          "name": "stdout",
          "text": [
            "Epoch 1/5\n",
            "3750/3750 [==============================] - 11s 3ms/step - loss: 0.1995 - accuracy: 0.9398\n",
            "Epoch 2/5\n",
            "3750/3750 [==============================] - 10s 3ms/step - loss: 0.0885 - accuracy: 0.9733\n",
            "Epoch 3/5\n",
            "3750/3750 [==============================] - 10s 3ms/step - loss: 0.0710 - accuracy: 0.9784\n",
            "Epoch 4/5\n",
            "3750/3750 [==============================] - 10s 3ms/step - loss: 0.0603 - accuracy: 0.9812\n",
            "Epoch 5/5\n",
            "3750/3750 [==============================] - 10s 3ms/step - loss: 0.0517 - accuracy: 0.9838\n"
          ]
        },
        {
          "output_type": "execute_result",
          "data": {
            "text/plain": [
              "<keras.callbacks.History at 0x7efc621d5ed0>"
            ]
          },
          "metadata": {},
          "execution_count": 14
        }
      ]
    },
    {
      "cell_type": "code",
      "source": [
        "val_loss, val_acc = model.evaluate(X_test, y_test)\n",
        "print(val_loss)\n",
        "print(val_acc)"
      ],
      "metadata": {
        "colab": {
          "base_uri": "https://localhost:8080/"
        },
        "id": "_AIqi1qkjC0V",
        "outputId": "30b2bc86-bd15-436d-8a74-fb65a84551c7"
      },
      "execution_count": 15,
      "outputs": [
        {
          "output_type": "stream",
          "name": "stdout",
          "text": [
            "313/313 [==============================] - 1s 3ms/step - loss: 0.0618 - accuracy: 0.9803\n",
            "0.061822112649679184\n",
            "0.9803000092506409\n"
          ]
        }
      ]
    },
    {
      "cell_type": "code",
      "source": [
        "image = X_test[3]\n",
        "prediction = np.round(model.predict(np.array([image])))\n",
        "prediction"
      ],
      "metadata": {
        "colab": {
          "base_uri": "https://localhost:8080/"
        },
        "id": "4GL4dzTbjGxP",
        "outputId": "d0a40c7d-c4a6-4eca-f2b8-f29836c7fc25"
      },
      "execution_count": 49,
      "outputs": [
        {
          "output_type": "execute_result",
          "data": {
            "text/plain": [
              "array([[1., 0., 0., 0., 0., 0., 0., 0., 0., 0.]], dtype=float32)"
            ]
          },
          "metadata": {},
          "execution_count": 49
        }
      ]
    },
    {
      "cell_type": "code",
      "source": [
        "plt.imshow(image, cmap=\"Greys_r\")"
      ],
      "metadata": {
        "colab": {
          "base_uri": "https://localhost:8080/",
          "height": 282
        },
        "id": "a-IwUqIwlbrI",
        "outputId": "d387b616-0c57-4874-a23c-0866f3aee38e"
      },
      "execution_count": 74,
      "outputs": [
        {
          "output_type": "execute_result",
          "data": {
            "text/plain": [
              "<matplotlib.image.AxesImage at 0x7efbace72ad0>"
            ]
          },
          "metadata": {},
          "execution_count": 74
        },
        {
          "output_type": "display_data",
          "data": {
            "text/plain": [
              "<Figure size 432x288 with 1 Axes>"
            ],
            "image/png": "[encoded data removed]"
          },
          "metadata": {
            "needs_background": "light"
          }
        }
      ]
    },
    {
      "cell_type": "code",
      "source": [
        "image_number = 10\n",
        "img = cv2.imread('/content/digit{}.png'.format(image_number))[:,:,0]\n",
        "img = np.invert(np.array([img]))\n",
        "prediction = model.predict(img)\n",
        "print(\"Your number is {}\".format(np.argmax(prediction)))\n",
        "plt.imshow(img[0], cmap=plt.cm.binary)\n",
        "plt.show()"
      ],
      "metadata": {
        "colab": {
          "base_uri": "https://localhost:8080/",
          "height": 282
        },
        "id": "b6NFmGvtmYD8",
        "outputId": "89845969-ce58-4f56-d37f-7a08d525a7e5"
      },
      "execution_count": 88,
      "outputs": [
        {
          "output_type": "stream",
          "name": "stdout",
          "text": [
            "Your number is 7\n"
          ]
        },
        {
          "output_type": "display_data",
          "data": {
            "text/plain": [
              "<Figure size 432x288 with 1 Axes>"
            ],
            "image/png": "[encoded data removed]"
          },
          "metadata": {
            "needs_background": "light"
          }
        }
      ]
    },
    {
      "cell_type": "code",
      "source": [
        ""
      ],
      "metadata": {
        "id": "nkTi5C6JxzUI"
      },
      "execution_count": null,
      "outputs": []
    }
  ]
}